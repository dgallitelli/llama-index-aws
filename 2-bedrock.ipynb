{
 "cells": [
  {
   "cell_type": "code",
   "execution_count": null,
   "metadata": {},
   "outputs": [],
   "source": [
    "%pip install llama-index-llms-bedrock llama-index-embeddings-bedrock"
   ]
  },
  {
   "cell_type": "markdown",
   "metadata": {},
   "source": [
    "## Example 1 - Using Llama-Index with Amazon Bedrock\n",
    "\n",
    "![](./images/llama-rock.png)"
   ]
  },
  {
   "cell_type": "code",
   "execution_count": 1,
   "metadata": {},
   "outputs": [],
   "source": [
    "# Setting up Bedrock\n",
    "from llama_index.llms.bedrock import Bedrock\n",
    "from llama_index.embeddings.bedrock import BedrockEmbedding, Models\n",
    "from llama_index.core.node_parser import SentenceSplitter\n",
    "from llama_index.core import VectorStoreIndex, SimpleDirectoryReader, Settings"
   ]
  },
  {
   "cell_type": "code",
   "execution_count": 2,
   "metadata": {},
   "outputs": [],
   "source": [
    "# Model that will be used to generate the embeddings\n",
    "Settings.embed_model = BedrockEmbedding(model=Models.COHERE_EMBED_MULTILINGUAL_V3, region_name=\"us-west-2\")\n",
    "# Model that will be used to generate the answer given the most relevant chunks\n",
    "Settings.llm = Bedrock(model=\"anthropic.claude-3-haiku-20240307-v1:0\", region_name=\"us-west-2\")"
   ]
  },
  {
   "cell_type": "code",
   "execution_count": 3,
   "metadata": {},
   "outputs": [],
   "source": [
    "# Indexing Phase\n",
    "documents = SimpleDirectoryReader(\"data\").load_data()\n",
    "index = VectorStoreIndex.from_documents(\n",
    "    documents=documents,\n",
    "    transformations=[SentenceSplitter(chunk_size=400, chunk_overlap=100)] # Max tokens size is 512 for this model\n",
    ")"
   ]
  },
  {
   "cell_type": "code",
   "execution_count": 4,
   "metadata": {},
   "outputs": [
    {
     "name": "stdout",
     "output_type": "stream",
     "text": [
      "Secondo le informazioni fornite nel contesto, Pinocchio è un ragazzaccio, un vagabondo e un vero rompicollo, descritto come disubbidiente e svogliato, che invece di andare a scuola va in giro con i compagni a fare lo sbarazzino. Nonostante il burattino inizialmente cerchi di dipingerlo come un gran buon figliuolo, pieno di voglia di studiare e affezionato al suo babbo, alla fine ammette che Pinocchio è davvero un ragazzaccio.\n"
     ]
    }
   ],
   "source": [
    "# Querying Phase\n",
    "query_engine = index.as_query_engine()\n",
    "response = query_engine.query(\"Chi è Pinocchio?\")\n",
    "print(response)"
   ]
  },
  {
   "cell_type": "code",
   "execution_count": null,
   "metadata": {},
   "outputs": [],
   "source": []
  }
 ],
 "metadata": {
  "kernelspec": {
   "display_name": ".venv",
   "language": "python",
   "name": "python3"
  },
  "language_info": {
   "codemirror_mode": {
    "name": "ipython",
    "version": 3
   },
   "file_extension": ".py",
   "mimetype": "text/x-python",
   "name": "python",
   "nbconvert_exporter": "python",
   "pygments_lexer": "ipython3",
   "version": "3.11.9"
  }
 },
 "nbformat": 4,
 "nbformat_minor": 2
}
