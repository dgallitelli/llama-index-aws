{
 "cells": [
  {
   "cell_type": "markdown",
   "metadata": {},
   "source": [
    "# Example - Parsing Summaries of Business Books and query them with RAG\n",
    "\n",
    "![](./images/llama-reading-book.png)"
   ]
  },
  {
   "cell_type": "code",
   "execution_count": 2,
   "metadata": {},
   "outputs": [
    {
     "name": "stdout",
     "output_type": "stream",
     "text": [
      "Note: you may need to restart the kernel to use updated packages.\n"
     ]
    }
   ],
   "source": [
    "%pip install llama-index-readers-web html2text -qU"
   ]
  },
  {
   "cell_type": "code",
   "execution_count": 19,
   "metadata": {},
   "outputs": [],
   "source": [
    "url = \"https://www.mentorist.app/books/\"\n",
    "urls = []\n",
    "\n",
    "# Using BS4, find all h4.a.href of this URL\n",
    "import requests\n",
    "from bs4 import BeautifulSoup\n",
    "\n",
    "n_pages_to_crawl = 3\n",
    "\n",
    "for page in range(1, n_pages_to_crawl+1):\n",
    "    response = requests.get(url+f\"?&page={page}\")\n",
    "    soup = BeautifulSoup(response.text, \"html.parser\")\n",
    "    books = soup.find_all(\"h4\")\n",
    "    for book in books:\n",
    "        try:\n",
    "            book_title = book.a[\"href\"].split(\"/books/\")[1]\n",
    "            book_link = url + book_title\n",
    "            urls += [book_link]\n",
    "        except:\n",
    "            pass"
   ]
  },
  {
   "cell_type": "code",
   "execution_count": 20,
   "metadata": {},
   "outputs": [],
   "source": [
    "from llama_index.core import SummaryIndex\n",
    "from llama_index.readers.web import SimpleWebPageReader\n",
    "from IPython.display import Markdown, display\n",
    "import os\n",
    "\n",
    "documents = SimpleWebPageReader(html_to_text=True).load_data(urls)"
   ]
  },
  {
   "cell_type": "code",
   "execution_count": 21,
   "metadata": {},
   "outputs": [],
   "source": [
    "# Setting up Bedrock\n",
    "from llama_index.core import Settings\n",
    "from llama_index.llms.bedrock import Bedrock\n",
    "from llama_index.embeddings.bedrock import BedrockEmbedding, Models\n",
    "from llama_index.core.node_parser import SentenceSplitter\n",
    "from llama_index.core import VectorStoreIndex, Settings\n",
    "\n",
    "# Models configuration\n",
    "Settings.embed_model = BedrockEmbedding(model=Models.COHERE_EMBED_MULTILINGUAL_V3, region_name=\"us-west-2\")\n",
    "Settings.llm = Bedrock(model=\"anthropic.claude-3-haiku-20240307-v1:0\", region_name=\"us-west-2\")\n",
    "\n",
    "# Indexing Phase\n",
    "index = VectorStoreIndex.from_documents(\n",
    "    documents=documents,\n",
    "    transformations=[SentenceSplitter(chunk_size=400, chunk_overlap=100)] # Max tokens size is 512 for this model\n",
    ")"
   ]
  },
  {
   "cell_type": "code",
   "execution_count": 24,
   "metadata": {},
   "outputs": [
    {
     "name": "stdout",
     "output_type": "stream",
     "text": [
      "The book \"The 4 Disciplines of Execution\" by Chris McChesney, Sean Covey, and Jim Huling introduces the concept of the Wildly Important Goal (WIG). According to the context, this book suggests that focusing on one or two critical, wildly important goals can help achieve the best possible results, as opposed to attempting to concentrate on multiple tasks simultaneously.\n"
     ]
    }
   ],
   "source": [
    "# Querying Phase\n",
    "query_engine = index.as_query_engine()\n",
    "response = query_engine.query(\"Which book introduces the concept of Widley Important Goal (WIG)?\")\n",
    "print(response)"
   ]
  },
  {
   "cell_type": "code",
   "execution_count": null,
   "metadata": {},
   "outputs": [],
   "source": []
  }
 ],
 "metadata": {
  "kernelspec": {
   "display_name": ".venv",
   "language": "python",
   "name": "python3"
  },
  "language_info": {
   "codemirror_mode": {
    "name": "ipython",
    "version": 3
   },
   "file_extension": ".py",
   "mimetype": "text/x-python",
   "name": "python",
   "nbconvert_exporter": "python",
   "pygments_lexer": "ipython3",
   "version": "3.11.9"
  }
 },
 "nbformat": 4,
 "nbformat_minor": 2
}
